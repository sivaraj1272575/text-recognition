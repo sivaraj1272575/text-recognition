{
  "nbformat": 4,
  "nbformat_minor": 0,
  "metadata": {
    "colab": {
      "name": "Untitled11.ipynb",
      "provenance": [],
      "collapsed_sections": []
    },
    "kernelspec": {
      "name": "python3",
      "display_name": "Python 3"
    },
    "language_info": {
      "name": "python"
    },
    "accelerator": "GPU"
  },
  "cells": [
    {
      "cell_type": "code",
      "metadata": {
        "colab": {
          "base_uri": "https://localhost:8080/"
        },
        "id": "g1tL0W-n7wXt",
        "outputId": "7f8b79c6-1782-431a-a348-33bb234e03e5"
      },
      "source": [
        "from google.colab import drive\n",
        "drive.mount('/content/gdrive')"
      ],
      "execution_count": 5,
      "outputs": [
        {
          "output_type": "stream",
          "text": [
            "Mounted at /content/gdrive\n"
          ],
          "name": "stdout"
        }
      ]
    },
    {
      "cell_type": "code",
      "metadata": {
        "id": "dHwo5WFbASmE"
      },
      "source": [
        "import numpy as np\n",
        "import pandas as pd\n",
        "from sklearn.model_selection import train_test_split\n",
        "from tensorflow.keras.models import Sequential\n",
        "from tensorflow.keras.layers import Dense, Flatten, Dropout\n",
        "from keras.layers.convolutional import Conv2D, MaxPooling2D\n",
        "from keras.utils import np_utils\n",
        "import matplotlib.pyplot as plt"
      ],
      "execution_count": 6,
      "outputs": []
    },
    {
      "cell_type": "code",
      "metadata": {
        "id": "nPsQTRQSDO5G"
      },
      "source": [
        "path = '/content/gdrive/MyDrive/Text Classification/A_Z Handwritten Data.csv'\n",
        "data = pd.read_csv(path)"
      ],
      "execution_count": 7,
      "outputs": []
    },
    {
      "cell_type": "code",
      "metadata": {
        "id": "-3ptwETODee3"
      },
      "source": [
        "X = data.iloc[:,0:784]\n",
        "y = data.iloc[:, 0]"
      ],
      "execution_count": 8,
      "outputs": []
    },
    {
      "cell_type": "code",
      "metadata": {
        "id": "RtOw5Gs-Dnsp"
      },
      "source": [
        "X_train, X_test, y_train, y_test = train_test_split(X,y, test_size=0.3)\n",
        "X_train = np.array(X_train)\n",
        "X_test = np.array(X_test)"
      ],
      "execution_count": 9,
      "outputs": []
    },
    {
      "cell_type": "code",
      "metadata": {
        "id": "mYz3Zr8kGqBX"
      },
      "source": [
        "X_train = X_train.reshape(X_train.shape[0], 28, 28 ,1).astype('float32')\n",
        "X_test = X_test.reshape(X_test.shape[0], 28, 28 ,1).astype('float32')\n",
        "X_train = X_train/255\n",
        "X_test = X_test/255"
      ],
      "execution_count": 10,
      "outputs": []
    },
    {
      "cell_type": "code",
      "metadata": {
        "id": "gNFiMbekHUld"
      },
      "source": [
        "y_train = np_utils.to_categorical(y_train).astype('float32')\n",
        "y_test = np_utils.to_categorical(y_test).astype('float32')\n",
        "num_labels = y_train.shape[1]"
      ],
      "execution_count": 11,
      "outputs": []
    },
    {
      "cell_type": "code",
      "metadata": {
        "id": "WMvR65SnH9kk"
      },
      "source": [
        "model = Sequential()\n",
        "model.add(Conv2D(32, (5,5), activation='relu',input_shape=(28, 28, 1)))\n",
        "model.add(Conv2D(64, (5,5), activation='relu'))\n",
        "model.add(Conv2D(64, (5,5), activation='relu'))\n",
        "model.add(MaxPooling2D(2,2))\n",
        "model.add(Dropout(0.2))\n",
        "model.add(Flatten())\n",
        "model.add(Dense(128, activation='relu'))\n",
        "model.add(Dense(num_labels, activation='softmax'))"
      ],
      "execution_count": 25,
      "outputs": []
    },
    {
      "cell_type": "code",
      "metadata": {
        "id": "xP7LHPs_H_fr"
      },
      "source": [
        "model.compile(optimizer='adam',loss='categorical_crossentropy',metrics=['accuracy'])"
      ],
      "execution_count": 26,
      "outputs": []
    },
    {
      "cell_type": "code",
      "metadata": {
        "colab": {
          "base_uri": "https://localhost:8080/"
        },
        "id": "f-Z5mORyK-TQ",
        "outputId": "e98c1cb5-4cde-4d74-d4ce-d518d3df2472"
      },
      "source": [
        "model.fit(X_train, y_train, validation_data=(X_test, y_test), batch_size=200, epochs=50)"
      ],
      "execution_count": 27,
      "outputs": [
        {
          "output_type": "stream",
          "text": [
            "Epoch 1/50\n",
            "1304/1304 [==============================] - 24s 17ms/step - loss: 0.3737 - accuracy: 0.8963 - val_loss: 0.0607 - val_accuracy: 0.9831\n",
            "Epoch 2/50\n",
            "1304/1304 [==============================] - 22s 17ms/step - loss: 0.0539 - accuracy: 0.9850 - val_loss: 0.0463 - val_accuracy: 0.9877\n",
            "Epoch 3/50\n",
            "1304/1304 [==============================] - 21s 16ms/step - loss: 0.0362 - accuracy: 0.9891 - val_loss: 0.0378 - val_accuracy: 0.9897\n",
            "Epoch 4/50\n",
            "1304/1304 [==============================] - 21s 16ms/step - loss: 0.0263 - accuracy: 0.9918 - val_loss: 0.0338 - val_accuracy: 0.9909\n",
            "Epoch 5/50\n",
            "1304/1304 [==============================] - 21s 16ms/step - loss: 0.0203 - accuracy: 0.9936 - val_loss: 0.0336 - val_accuracy: 0.9905\n",
            "Epoch 6/50\n",
            "1304/1304 [==============================] - 21s 16ms/step - loss: 0.0157 - accuracy: 0.9949 - val_loss: 0.0309 - val_accuracy: 0.9921\n",
            "Epoch 7/50\n",
            "1304/1304 [==============================] - 21s 16ms/step - loss: 0.0139 - accuracy: 0.9954 - val_loss: 0.0300 - val_accuracy: 0.9928\n",
            "Epoch 8/50\n",
            "1304/1304 [==============================] - 21s 16ms/step - loss: 0.0117 - accuracy: 0.9964 - val_loss: 0.0315 - val_accuracy: 0.9928\n",
            "Epoch 9/50\n",
            "1304/1304 [==============================] - 21s 16ms/step - loss: 0.0105 - accuracy: 0.9966 - val_loss: 0.0316 - val_accuracy: 0.9933\n",
            "Epoch 10/50\n",
            "1304/1304 [==============================] - 21s 16ms/step - loss: 0.0099 - accuracy: 0.9966 - val_loss: 0.0302 - val_accuracy: 0.9939\n",
            "Epoch 11/50\n",
            "1304/1304 [==============================] - 21s 16ms/step - loss: 0.0070 - accuracy: 0.9975 - val_loss: 0.0290 - val_accuracy: 0.9945\n",
            "Epoch 12/50\n",
            "1304/1304 [==============================] - 21s 16ms/step - loss: 0.0077 - accuracy: 0.9974 - val_loss: 0.0317 - val_accuracy: 0.9937\n",
            "Epoch 13/50\n",
            "1304/1304 [==============================] - 21s 16ms/step - loss: 0.0074 - accuracy: 0.9974 - val_loss: 0.0339 - val_accuracy: 0.9940\n",
            "Epoch 14/50\n",
            "1304/1304 [==============================] - 21s 16ms/step - loss: 0.0066 - accuracy: 0.9978 - val_loss: 0.0343 - val_accuracy: 0.9947\n",
            "Epoch 15/50\n",
            "1304/1304 [==============================] - 21s 16ms/step - loss: 0.0060 - accuracy: 0.9981 - val_loss: 0.0331 - val_accuracy: 0.9939\n",
            "Epoch 16/50\n",
            "1304/1304 [==============================] - 21s 16ms/step - loss: 0.0057 - accuracy: 0.9982 - val_loss: 0.0343 - val_accuracy: 0.9942\n",
            "Epoch 17/50\n",
            "1304/1304 [==============================] - 21s 16ms/step - loss: 0.0050 - accuracy: 0.9983 - val_loss: 0.0386 - val_accuracy: 0.9939\n",
            "Epoch 18/50\n",
            "1304/1304 [==============================] - 21s 16ms/step - loss: 0.0062 - accuracy: 0.9980 - val_loss: 0.0371 - val_accuracy: 0.9951\n",
            "Epoch 19/50\n",
            "1304/1304 [==============================] - 21s 16ms/step - loss: 0.0047 - accuracy: 0.9986 - val_loss: 0.0324 - val_accuracy: 0.9949\n",
            "Epoch 20/50\n",
            "1304/1304 [==============================] - 21s 16ms/step - loss: 0.0044 - accuracy: 0.9984 - val_loss: 0.0348 - val_accuracy: 0.9950\n",
            "Epoch 21/50\n",
            "1304/1304 [==============================] - 21s 16ms/step - loss: 0.0047 - accuracy: 0.9986 - val_loss: 0.0429 - val_accuracy: 0.9942\n",
            "Epoch 22/50\n",
            "1304/1304 [==============================] - 21s 16ms/step - loss: 0.0061 - accuracy: 0.9981 - val_loss: 0.0390 - val_accuracy: 0.9949\n",
            "Epoch 23/50\n",
            "1304/1304 [==============================] - 21s 16ms/step - loss: 0.0043 - accuracy: 0.9986 - val_loss: 0.0356 - val_accuracy: 0.9955\n",
            "Epoch 24/50\n",
            "1304/1304 [==============================] - 21s 16ms/step - loss: 0.0046 - accuracy: 0.9985 - val_loss: 0.0347 - val_accuracy: 0.9953\n",
            "Epoch 25/50\n",
            "1304/1304 [==============================] - 21s 16ms/step - loss: 0.0028 - accuracy: 0.9991 - val_loss: 0.0485 - val_accuracy: 0.9938\n",
            "Epoch 26/50\n",
            "1304/1304 [==============================] - 21s 16ms/step - loss: 0.0058 - accuracy: 0.9983 - val_loss: 0.0425 - val_accuracy: 0.9954\n",
            "Epoch 27/50\n",
            "1304/1304 [==============================] - 21s 16ms/step - loss: 0.0045 - accuracy: 0.9986 - val_loss: 0.0433 - val_accuracy: 0.9949\n",
            "Epoch 28/50\n",
            "1304/1304 [==============================] - 21s 16ms/step - loss: 0.0043 - accuracy: 0.9987 - val_loss: 0.0391 - val_accuracy: 0.9957\n",
            "Epoch 29/50\n",
            "1304/1304 [==============================] - 21s 16ms/step - loss: 0.0042 - accuracy: 0.9987 - val_loss: 0.0371 - val_accuracy: 0.9952\n",
            "Epoch 30/50\n",
            "1304/1304 [==============================] - 21s 16ms/step - loss: 0.0037 - accuracy: 0.9989 - val_loss: 0.0441 - val_accuracy: 0.9946\n",
            "Epoch 31/50\n",
            "1304/1304 [==============================] - 21s 16ms/step - loss: 0.0040 - accuracy: 0.9988 - val_loss: 0.0409 - val_accuracy: 0.9953\n",
            "Epoch 32/50\n",
            "1304/1304 [==============================] - 21s 16ms/step - loss: 0.0041 - accuracy: 0.9987 - val_loss: 0.0421 - val_accuracy: 0.9948\n",
            "Epoch 33/50\n",
            "1304/1304 [==============================] - 21s 16ms/step - loss: 0.0036 - accuracy: 0.9990 - val_loss: 0.0379 - val_accuracy: 0.9953\n",
            "Epoch 34/50\n",
            "1304/1304 [==============================] - 21s 16ms/step - loss: 0.0031 - accuracy: 0.9991 - val_loss: 0.0429 - val_accuracy: 0.9955\n",
            "Epoch 35/50\n",
            "1304/1304 [==============================] - 21s 16ms/step - loss: 0.0033 - accuracy: 0.9990 - val_loss: 0.0507 - val_accuracy: 0.9946\n",
            "Epoch 36/50\n",
            "1304/1304 [==============================] - 21s 16ms/step - loss: 0.0033 - accuracy: 0.9990 - val_loss: 0.0520 - val_accuracy: 0.9944\n",
            "Epoch 37/50\n",
            "1304/1304 [==============================] - 21s 16ms/step - loss: 0.0045 - accuracy: 0.9987 - val_loss: 0.0433 - val_accuracy: 0.9956\n",
            "Epoch 38/50\n",
            "1304/1304 [==============================] - 21s 16ms/step - loss: 0.0024 - accuracy: 0.9993 - val_loss: 0.0495 - val_accuracy: 0.9949\n",
            "Epoch 39/50\n",
            "1304/1304 [==============================] - 21s 16ms/step - loss: 0.0036 - accuracy: 0.9990 - val_loss: 0.0437 - val_accuracy: 0.9952\n",
            "Epoch 40/50\n",
            "1304/1304 [==============================] - 21s 16ms/step - loss: 0.0036 - accuracy: 0.9991 - val_loss: 0.0437 - val_accuracy: 0.9957\n",
            "Epoch 41/50\n",
            "1304/1304 [==============================] - 21s 16ms/step - loss: 0.0024 - accuracy: 0.9993 - val_loss: 0.0515 - val_accuracy: 0.9949\n",
            "Epoch 42/50\n",
            "1304/1304 [==============================] - 21s 16ms/step - loss: 0.0035 - accuracy: 0.9990 - val_loss: 0.0501 - val_accuracy: 0.9952\n",
            "Epoch 43/50\n",
            "1304/1304 [==============================] - 21s 16ms/step - loss: 0.0040 - accuracy: 0.9989 - val_loss: 0.0469 - val_accuracy: 0.9954\n",
            "Epoch 44/50\n",
            "1304/1304 [==============================] - 21s 16ms/step - loss: 0.0038 - accuracy: 0.9990 - val_loss: 0.0552 - val_accuracy: 0.9951\n",
            "Epoch 45/50\n",
            "1304/1304 [==============================] - 21s 16ms/step - loss: 0.0041 - accuracy: 0.9989 - val_loss: 0.0526 - val_accuracy: 0.9952\n",
            "Epoch 46/50\n",
            "1304/1304 [==============================] - 21s 16ms/step - loss: 0.0032 - accuracy: 0.9992 - val_loss: 0.0580 - val_accuracy: 0.9947\n",
            "Epoch 47/50\n",
            "1304/1304 [==============================] - 21s 16ms/step - loss: 0.0041 - accuracy: 0.9991 - val_loss: 0.0517 - val_accuracy: 0.9954\n",
            "Epoch 48/50\n",
            "1304/1304 [==============================] - 21s 16ms/step - loss: 0.0024 - accuracy: 0.9993 - val_loss: 0.0525 - val_accuracy: 0.9953\n",
            "Epoch 49/50\n",
            "1304/1304 [==============================] - 21s 16ms/step - loss: 0.0033 - accuracy: 0.9992 - val_loss: 0.0511 - val_accuracy: 0.9953\n",
            "Epoch 50/50\n",
            "1304/1304 [==============================] - 21s 16ms/step - loss: 0.0030 - accuracy: 0.9991 - val_loss: 0.0590 - val_accuracy: 0.9947\n"
          ],
          "name": "stdout"
        },
        {
          "output_type": "execute_result",
          "data": {
            "text/plain": [
              "<tensorflow.python.keras.callbacks.History at 0x7f95b2e20350>"
            ]
          },
          "metadata": {
            "tags": []
          },
          "execution_count": 27
        }
      ]
    },
    {
      "cell_type": "code",
      "metadata": {
        "colab": {
          "base_uri": "https://localhost:8080/"
        },
        "id": "Rm87z9TCLJGZ",
        "outputId": "349df218-faeb-406c-e033-fc7a3ea87037"
      },
      "source": [
        "model.evaluate(X_test, y_test, verbose=1)"
      ],
      "execution_count": 28,
      "outputs": [
        {
          "output_type": "stream",
          "text": [
            "3492/3492 [==============================] - 11s 3ms/step - loss: 0.0590 - accuracy: 0.9947\n"
          ],
          "name": "stdout"
        },
        {
          "output_type": "execute_result",
          "data": {
            "text/plain": [
              "[0.059036243706941605, 0.9946928024291992]"
            ]
          },
          "metadata": {
            "tags": []
          },
          "execution_count": 28
        }
      ]
    },
    {
      "cell_type": "code",
      "metadata": {
        "id": "-UruStp3Nkt0"
      },
      "source": [
        "model.save('/content/gdrive/MyDrive/Text Classification/model.h5')"
      ],
      "execution_count": 29,
      "outputs": []
    }
  ]
}